{
 "cells": [
  {
   "cell_type": "markdown",
   "metadata": {},
   "source": [
    "# Some basic Theano brain teasers\n",
    "There is a n-dim tensor variable, you `dimshuffle` with pattern `x`, then you take its sum at some axis `y`, what do you get? Does it sound like a good puzzle to you? Then let's figure it out.\n",
    "\n",
    "But first we should `import` some magics..."
   ]
  },
  {
   "cell_type": "code",
   "execution_count": 1,
   "metadata": {
    "collapsed": true
   },
   "outputs": [],
   "source": [
    "import theano\n",
    "import numpy as np\n",
    "\n",
    "from theano import tensor as T"
   ]
  },
  {
   "cell_type": "markdown",
   "metadata": {},
   "source": [
    "### Custom tensor type \n",
    "It's very easy to define a new tensor type in Theano via the `broadcastable` argument."
   ]
  },
  {
   "cell_type": "code",
   "execution_count": 2,
   "metadata": {
    "collapsed": true
   },
   "outputs": [],
   "source": [
    "dvector  = T.TensorType(broadcastable=(False,), dtype='float32')\n",
    "drow     = T.TensorType(broadcastable=(True, False), dtype='float32')\n",
    "dcol     = T.TensorType(broadcastable=(False, True), dtype='float32')\n",
    "dtensor3 = T.TensorType(broadcastable=(False, False, False), dtype='float32')"
   ]
  },
  {
   "cell_type": "markdown",
   "metadata": {
    "collapsed": true
   },
   "source": [
    "### Reductions\n",
    "If you do `foo(axis=n)` then the dimension `n` will be collapsed and deleted with all values in the new matrix equal to the sum of the corresponding collapsed values."
   ]
  },
  {
   "cell_type": "code",
   "execution_count": 5,
   "metadata": {
    "collapsed": false,
    "scrolled": true
   },
   "outputs": [
    {
     "name": "stdout",
     "output_type": "stream",
     "text": [
      "x:\n",
      "[[[  0.   1.   2.]\n",
      "  [  3.   4.   5.]\n",
      "  [  6.   7.   8.]]\n",
      "\n",
      " [[  9.  10.  11.]\n",
      "  [ 12.  13.  14.]\n",
      "  [ 15.  16.  17.]]\n",
      "\n",
      " [[ 18.  19.  20.]\n",
      "  [ 21.  22.  23.]\n",
      "  [ 24.  25.  26.]]]\n",
      "s0:\n",
      "[[ 27.  30.  33.]\n",
      " [ 36.  39.  42.]\n",
      " [ 45.  48.  51.]]\n"
     ]
    }
   ],
   "source": [
    "# new variable of type dtensor3\n",
    "x = dtensor3()\n",
    "\n",
    "# sum of x along axis 0\n",
    "s0 = x.sum(axis=0)\n",
    "\n",
    "# feed x some value \n",
    "x_val = np.reshape(np.arange(3 * 3 * 3, dtype='float32'),(3, 3, 3))\n",
    "dic   = {x : x_val}\n",
    "\n",
    "# s0 is the sum of 3 sub 3x3 matrix\n",
    "print \"x:\\n{0}\".format(x_val)\n",
    "print \"s0:\\n{0}\".format(s0.eval(dic))"
   ]
  },
  {
   "cell_type": "code",
   "execution_count": null,
   "metadata": {
    "collapsed": true
   },
   "outputs": [],
   "source": [
    "# teaser 1, guess?\n",
    "s1 = x.sum(axis=1)\n",
    "s2 = x.sum(axis=0).sum(axis=0)\n",
    "s3 = x.sum(axis=(0,1))\n",
    "s4 = x.sum(axis=0).sum(axis=1)\n",
    "\n",
    "# some common reductions\n",
    "total = x.sum()\n",
    "marginals = x.sum(axis=(0,1))\n",
    "mx = x.max(axis=1)"
   ]
  },
  {
   "cell_type": "markdown",
   "metadata": {},
   "source": []
  },
  {
   "cell_type": "markdown",
   "metadata": {},
   "source": [
    "### Dimshuffle\n",
    "Now having some good understanding about the dimensions of Theano tensor, let's face the `dimshuffle` monster :-) Here we will examine our good friend `tensor3` (not too boring, not too hard)"
   ]
  }
 ],
 "metadata": {
  "kernelspec": {
   "display_name": "Python 2",
   "language": "python",
   "name": "python2"
  },
  "language_info": {
   "codemirror_mode": {
    "name": "ipython",
    "version": 2
   },
   "file_extension": ".py",
   "mimetype": "text/x-python",
   "name": "python",
   "nbconvert_exporter": "python",
   "pygments_lexer": "ipython2",
   "version": "2.7.10"
  }
 },
 "nbformat": 4,
 "nbformat_minor": 0
}
