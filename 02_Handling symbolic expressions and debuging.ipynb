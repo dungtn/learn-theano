{
 "cells": [
  {
   "cell_type": "code",
   "execution_count": 6,
   "metadata": {
    "collapsed": true
   },
   "outputs": [],
   "source": [
    "from theano import tensor as T\n",
    "from theano import function\n",
    "\n",
    "import numpy as np"
   ]
  },
  {
   "cell_type": "markdown",
   "metadata": {},
   "source": [
    "### known_grads\n",
    "\n",
    "`known_grads` is a dictionary that specifies the gradient of the cost w.r.t. to some variables, instead of the ones automatically derived from the cost. The cost can even be omitted if a seperating set is known. "
   ]
  },
  {
   "cell_type": "code",
   "execution_count": 15,
   "metadata": {
    "collapsed": false
   },
   "outputs": [],
   "source": [
    "x = T.vector('x')\n",
    "y = x ** 3 + x ** 2\n",
    "z = 6 * y + x\n",
    "\n",
    "# normal gradient\n",
    "g1 = T.grad(z.mean(), x)\n",
    "\n",
    "# dz/dx = dz/dy * dy/dx + d(x)/dx = (2 * x) * (3 * (x ** 2) + 2 * x)\n",
    "g2 = T.grad(z.mean(), x, known_grads={y : 2 * x})\n",
    "\n",
    "f1 = function([x], [y, z, g1])\n",
    "f2 = function([x], [y, z, g2])\n",
    "\n",
    "x_val = np.arange(2, dtype='float32')\n",
    "print f1(x_val)\n",
    "print f2(x_val)"
   ]
  },
  {
   "cell_type": "markdown",
   "metadata": {},
   "source": [
    "### compute_test_value\n",
    "In normal execution, the exception is only raised when it tries to execute the call to function. Thus, it's hard to see which line cause the error. `compute_test_value` allows you to plug in a test value in order to detect the first invalid expression."
   ]
  },
  {
   "cell_type": "code",
   "execution_count": null,
   "metadata": {
    "collapsed": true
   },
   "outputs": [],
   "source": [
    "from theano import config\n",
    "config.compute_test"
   ]
  }
 ],
 "metadata": {
  "kernelspec": {
   "display_name": "Python 2",
   "language": "python",
   "name": "python2"
  },
  "language_info": {
   "codemirror_mode": {
    "name": "ipython",
    "version": 2
   },
   "file_extension": ".py",
   "mimetype": "text/x-python",
   "name": "python",
   "nbconvert_exporter": "python",
   "pygments_lexer": "ipython2",
   "version": "2.7.10"
  }
 },
 "nbformat": 4,
 "nbformat_minor": 0
}
