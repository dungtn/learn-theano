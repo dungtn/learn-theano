{
 "cells": [
  {
   "cell_type": "code",
   "execution_count": 6,
   "metadata": {
    "collapsed": true
   },
   "outputs": [],
   "source": [
    "from theano import tensor as T\n",
    "from theano import function\n",
    "\n",
    "import numpy as np"
   ]
  },
  {
   "cell_type": "markdown",
   "metadata": {},
   "source": [
    "### known_grads\n",
    "\n",
    "`known_grads` is a dictionary that specifies the gradient of the cost wrt to some variables, instead of the ones automatically derived from the cost. For instance, "
   ]
  },
  {
   "cell_type": "code",
   "execution_count": 15,
   "metadata": {
    "collapsed": false
   },
   "outputs": [],
   "source": [
    "x = T.vector('x')\n",
    "y = x ** 3 + x ** 2\n",
    "z = 6 * y + x\n",
    "\n",
    "# normal gradient\n",
    "g1 = T.grad(z.mean(), x)\n",
    "\n",
    "# dz/dx = dz/dy * dy/dx + d(x)/dx = (2 * x) * (3 * (x ** 2) + 2 * x)\n",
    "g2 = T.grad(z.mean(), x, known_grads={y : 2 * x})\n",
    "\n",
    "f1 = function([x], [y, z, g1])\n",
    "f2 = function([x], [y, z, g2])"
   ]
  },
  {
   "cell_type": "code",
   "execution_count": 14,
   "metadata": {
    "collapsed": false
   },
   "outputs": [
    {
     "name": "stdout",
     "output_type": "stream",
     "text": [
      "[array([ 0.,  2.], dtype=float32), array([  0.,  13.], dtype=float32), array([  0.5,  15.5], dtype=float32)]\n",
      "[array([ 0.,  2.], dtype=float32), array([  0.,  13.], dtype=float32), array([ 0.,  2.], dtype=float32)]\n"
     ]
    }
   ],
   "source": [
    "x_val = np.arange(2, dtype='float32')\n",
    "print f1(x_val)\n",
    "print f2(x_val)"
   ]
  },
  {
   "cell_type": "markdown",
   "metadata": {},
   "source": [
    "\"known_grads\" specifies expressions to use for the gradient of the cost \n",
    "wrt some variables, instead of the ones automatically derived from the \n",
    "cost. \n",
    "\n",
    "For instance, \"known_grads={a: 2*x}\" means that, during the \n",
    "backpropagation, we will consider the gradient wrt a, say dC/da to be \n",
    "2*x, instead of the expression derived from the provided cost y.sum(), \n",
    "or d(y.sum())/da. \n",
    "\n",
    "In that particular case, without known_grads, we would have: \n",
    "d(y.sum())/da = 6 * ones_like(a) \n",
    "d(y.sum())/dx = ones_like(x) + d(y.sum())/da da/dx \n",
    "              = 1 + 6 * (3 * x**2 + 2 * x) \n",
    "\n",
    "evaluated at [1, 2], it would give [31, 97]. \n",
    "\n",
    "Now, if you replace d(y.sum())/da by 2*x, the last formula becomes: \n",
    "\n",
    "dC/dx = ones_like(x) + 2*x da/dx \n",
    "      = 1 + 2*x * (3 * x**2 + 2 * x) \n",
    "\n",
    "If you evaluate that at [1, 2], it gives [11, 65]. "
   ]
  }
 ],
 "metadata": {
  "kernelspec": {
   "display_name": "Python 2",
   "language": "python",
   "name": "python2"
  },
  "language_info": {
   "codemirror_mode": {
    "name": "ipython",
    "version": 2
   },
   "file_extension": ".py",
   "mimetype": "text/x-python",
   "name": "python",
   "nbconvert_exporter": "python",
   "pygments_lexer": "ipython2",
   "version": "2.7.10"
  }
 },
 "nbformat": 4,
 "nbformat_minor": 0
}
