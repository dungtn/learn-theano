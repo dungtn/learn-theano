{
 "cells": [
  {
   "cell_type": "markdown",
   "metadata": {},
   "source": [
    "# Some basic Theano brain teasers\n",
    "There is a n-dim tensor variable, you `dimshuffle` with pattern `x`, then you take its sum at some axis `y`, what do you get? Does it sound like a good puzzle to you? Then let's figure it out.\n",
    "\n",
    "But first we should `import` some magics..."
   ]
  },
  {
   "cell_type": "code",
   "execution_count": 1,
   "metadata": {
    "collapsed": true
   },
   "outputs": [],
   "source": [
    "import theano\n",
    "import numpy as np\n",
    "\n",
    "from theano import tensor as T"
   ]
  },
  {
   "cell_type": "markdown",
   "metadata": {},
   "source": [
    "### Custom tensor type \n",
    "It's very easy to define a new tensor type in Theano via the `broadcastable` argument."
   ]
  },
  {
   "cell_type": "code",
   "execution_count": 2,
   "metadata": {
    "collapsed": true
   },
   "outputs": [],
   "source": [
    "dvector  = T.TensorType(broadcastable=(False,), dtype='float32')\n",
    "drow     = T.TensorType(broadcastable=(True, False), dtype='float32')\n",
    "dcol     = T.TensorType(broadcastable=(False, True), dtype='float32')\n",
    "dtensor3 = T.TensorType(broadcastable=(False, False, False), dtype='float32')"
   ]
  },
  {
   "cell_type": "markdown",
   "metadata": {
    "collapsed": true
   },
   "source": [
    "### Reductions\n",
    "If you do `foo(axis=n)` then the dimension `n` is collapsed and deleted with all values in the new matrix equal to the sum of the corresponding collapsed values."
   ]
  },
  {
   "cell_type": "code",
   "execution_count": 3,
   "metadata": {
    "collapsed": false,
    "scrolled": true
   },
   "outputs": [
    {
     "name": "stdout",
     "output_type": "stream",
     "text": [
      "x:\n",
      "[[[  0.   1.   2.]\n",
      "  [  3.   4.   5.]\n",
      "  [  6.   7.   8.]]\n",
      "\n",
      " [[  9.  10.  11.]\n",
      "  [ 12.  13.  14.]\n",
      "  [ 15.  16.  17.]]\n",
      "\n",
      " [[ 18.  19.  20.]\n",
      "  [ 21.  22.  23.]\n",
      "  [ 24.  25.  26.]]]\n",
      "s0:\n",
      "[[ 27.  30.  33.]\n",
      " [ 36.  39.  42.]\n",
      " [ 45.  48.  51.]]\n"
     ]
    }
   ],
   "source": [
    "# new variable of type dtensor3\n",
    "x = dtensor3()\n",
    "\n",
    "# sum of x along axis 0\n",
    "s0 = x.sum(axis=0)\n",
    "\n",
    "# feed x some value \n",
    "x_val = np.reshape(np.arange(3 * 3 * 3, dtype='float32'),(3, 3, 3))\n",
    "dic   = {x : x_val}\n",
    "\n",
    "# s0 is the sum of 3 sub 3x3 matrix\n",
    "print \"x:\\n{0}\".format(x_val)\n",
    "print \"s0:\\n{0}\".format(s0.eval(dic))"
   ]
  },
  {
   "cell_type": "code",
   "execution_count": null,
   "metadata": {
    "collapsed": true
   },
   "outputs": [],
   "source": [
    "# teaser 1\n",
    "s1 = x.sum(axis=1)\n",
    "s2 = x.sum(axis=0).sum(axis=0)\n",
    "s3 = x.sum(axis=(0,1))\n",
    "s4 = x.sum(axis=0).sum(axis=1)\n",
    "\n",
    "# some common reductions\n",
    "total = x.sum()\n",
    "marginals = x.sum(axis=(0,2))\n",
    "mx = x.max(axis=1)"
   ]
  },
  {
   "cell_type": "markdown",
   "metadata": {},
   "source": [
    "### Dimshuffle\n",
    "Now let's moving on to `dimshuffle`. Basically, `dimshuffle(d1, d2, d3)` takes the elements in `d1` and scatter them into `d2`, etc."
   ]
  },
  {
   "cell_type": "code",
   "execution_count": 4,
   "metadata": {
    "collapsed": false
   },
   "outputs": [
    {
     "name": "stdout",
     "output_type": "stream",
     "text": [
      "y0:\n",
      "[[[  0.   1.   2.]\n",
      "  [  9.  10.  11.]\n",
      "  [ 18.  19.  20.]]\n",
      "\n",
      " [[  3.   4.   5.]\n",
      "  [ 12.  13.  14.]\n",
      "  [ 21.  22.  23.]]\n",
      "\n",
      " [[  6.   7.   8.]\n",
      "  [ 15.  16.  17.]\n",
      "  [ 24.  25.  26.]]]\n",
      "y1:\n",
      "[[[  0.   3.   6.]\n",
      "  [  9.  12.  15.]\n",
      "  [ 18.  21.  24.]]\n",
      "\n",
      " [[  1.   4.   7.]\n",
      "  [ 10.  13.  16.]\n",
      "  [ 19.  22.  25.]]\n",
      "\n",
      " [[  2.   5.   8.]\n",
      "  [ 11.  14.  17.]\n",
      "  [ 20.  23.  26.]]]\n"
     ]
    }
   ],
   "source": [
    "# warm up\n",
    "y0 = x.dimshuffle((1, 0, 2))\n",
    "\n",
    "# a little harder\n",
    "y1 = x.dimshuffle((2, 0, 1))\n",
    "\n",
    "print \"y0:\\n{0}\".format(y0.eval(dic))\n",
    "print \"y1:\\n{0}\".format(y1.eval(dic))"
   ]
  },
  {
   "cell_type": "code",
   "execution_count": null,
   "metadata": {
    "collapsed": false
   },
   "outputs": [],
   "source": [
    "# teaser 2\n",
    "y2 = x.dimshuffle((0, 2, 1))\n",
    "y3 = x.dimshuffle((1, 2, 0))\n",
    "y4 = x.dimshuffle((2, 1, 0))\n",
    "\n",
    "# adding to larger tensor\n",
    "a = T.matrix()\n",
    "b = a.dimshuffle(0, 1, 'x') + x\n",
    "\n",
    "a_val = np.ones((3,3), dtype='float32')\n",
    "print \"b:\\n{0}\".format(b.eval({x : x_val, a : a_val}))"
   ]
  },
  {
   "cell_type": "markdown",
   "metadata": {},
   "source": [
    "### Shared variable\n",
    "A shared variable is the buffer that stores a numerical value for a Theano variable"
   ]
  },
  {
   "cell_type": "code",
   "execution_count": 5,
   "metadata": {
    "collapsed": false
   },
   "outputs": [
    {
     "name": "stdout",
     "output_type": "stream",
     "text": [
      "state0: 0.0\n",
      "state1: 1.0\n",
      "state2: 100.0\n"
     ]
    }
   ],
   "source": [
    "state = theano.shared(0.)\n",
    "\n",
    "inc = T.scalar('inc')\n",
    "accumulator = theano.function([inc], state, updates=[(state, state+inc)])\n",
    "print \"state0: {0}\".format(state.get_value())\n",
    "\n",
    "accumulator(1)\n",
    "print \"state1: {0}\".format(state.get_value())\n",
    "\n",
    "state.set_value(100.)\n",
    "print \"state2: {0}\".format(state.get_value())\n",
    "\n",
    "fn_of_state = state * 2 + inc\n",
    "foo = T.scalar(dtype=state.dtype)\n",
    "skip_shared = theano.function([inc, foo], fn_of_state, givens=[(state, foo)]) # try replace givens with updates"
   ]
  },
  {
   "cell_type": "code",
   "execution_count": null,
   "metadata": {
    "collapsed": false
   },
   "outputs": [],
   "source": [
    "# teaser 3\n",
    "skip_shared(1, 2)\n",
    "print \"state3: {0}\".format(state.get_value())"
   ]
  }
 ],
 "metadata": {
  "kernelspec": {
   "display_name": "Python 2",
   "language": "python",
   "name": "python2"
  },
  "language_info": {
   "codemirror_mode": {
    "name": "ipython",
    "version": 2
   },
   "file_extension": ".py",
   "mimetype": "text/x-python",
   "name": "python",
   "nbconvert_exporter": "python",
   "pygments_lexer": "ipython2",
   "version": "2.7.10"
  }
 },
 "nbformat": 4,
 "nbformat_minor": 0
}
